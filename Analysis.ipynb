{
 "cells": [
  {
   "cell_type": "code",
   "execution_count": 1,
   "metadata": {
    "ExecuteTime": {
     "end_time": "2020-06-13T16:00:35.410860Z",
     "start_time": "2020-06-13T16:00:32.971569Z"
    }
   },
   "outputs": [],
   "source": [
    "import numpy as np\n",
    "import pandas as pd\n",
    "\n",
    "import seaborn as sns\n",
    "import matplotlib.pyplot as plt\n",
    "sns.set(style=\"ticks\", color_codes=True)"
   ]
  },
  {
   "cell_type": "markdown",
   "metadata": {},
   "source": [
    "Этот датасет включает полногеномный анализ копийности генов в 104 случаях аденокарциномы предстательной железы. Данные взяты на [сBioPortal](http://download.cbioportal.org/prad_mskcc_2014.tar.gz)."
   ]
  },
  {
   "cell_type": "markdown",
   "metadata": {},
   "source": [
    "# Клиническое описание"
   ]
  },
  {
   "cell_type": "code",
   "execution_count": 61,
   "metadata": {
    "ExecuteTime": {
     "end_time": "2020-06-13T16:15:23.215772Z",
     "start_time": "2020-06-13T16:15:23.202247Z"
    },
    "scrolled": true
   },
   "outputs": [],
   "source": [
    "data = pd.read_csv('./prad_mskcc_2014/data_clinical_patient.txt',\n",
    "                   sep=\"\\t\", header=4)"
   ]
  },
  {
   "cell_type": "code",
   "execution_count": 37,
   "metadata": {
    "ExecuteTime": {
     "end_time": "2020-06-13T07:55:39.138842Z",
     "start_time": "2020-06-13T07:55:39.112858Z"
    }
   },
   "outputs": [
    {
     "data": {
      "text/html": [
       "<div>\n",
       "<style scoped>\n",
       "    .dataframe tbody tr th:only-of-type {\n",
       "        vertical-align: middle;\n",
       "    }\n",
       "\n",
       "    .dataframe tbody tr th {\n",
       "        vertical-align: top;\n",
       "    }\n",
       "\n",
       "    .dataframe thead th {\n",
       "        text-align: right;\n",
       "    }\n",
       "</style>\n",
       "<table border=\"1\" class=\"dataframe\">\n",
       "  <thead>\n",
       "    <tr style=\"text-align: right;\">\n",
       "      <th></th>\n",
       "      <th>PATIENT_ID</th>\n",
       "      <th>FOLLOW_UP_TIME_MONTHS</th>\n",
       "      <th>DFS_MONTHS</th>\n",
       "      <th>DFS_STATUS</th>\n",
       "      <th>METS_FREE_TIME_MONTHS</th>\n",
       "      <th>METASTATIC_DISEASE</th>\n",
       "      <th>OS_MONTHS</th>\n",
       "      <th>OS_STATUS</th>\n",
       "      <th>AGE</th>\n",
       "      <th>PSA</th>\n",
       "      <th>CLIN_T_STAGE</th>\n",
       "      <th>RADIATION_TREATMENT_NEOADJUVANT</th>\n",
       "      <th>ADJUVANT_CHEMO</th>\n",
       "      <th>ADJUVANT_HORMONE_THERAPY</th>\n",
       "      <th>RADIATION_TREATMENT_ADJUVANT</th>\n",
       "      <th>PATH_T_STAGE</th>\n",
       "      <th>SURGERY</th>\n",
       "    </tr>\n",
       "  </thead>\n",
       "  <tbody>\n",
       "    <tr>\n",
       "      <th>0</th>\n",
       "      <td>PCA0318</td>\n",
       "      <td>107.2</td>\n",
       "      <td>104.675804</td>\n",
       "      <td>0:DiseaseFree</td>\n",
       "      <td>104.675747</td>\n",
       "      <td>Negative</td>\n",
       "      <td>107.2</td>\n",
       "      <td>1:DECEASED</td>\n",
       "      <td>56.691149</td>\n",
       "      <td>4.6</td>\n",
       "      <td>T2a</td>\n",
       "      <td>NaN</td>\n",
       "      <td>NaN</td>\n",
       "      <td>NaN</td>\n",
       "      <td>NaN</td>\n",
       "      <td>pT2b</td>\n",
       "      <td>Radical Prostatectomy</td>\n",
       "    </tr>\n",
       "    <tr>\n",
       "      <th>1</th>\n",
       "      <td>PCA0301</td>\n",
       "      <td>10.3</td>\n",
       "      <td>9.495074</td>\n",
       "      <td>0:DiseaseFree</td>\n",
       "      <td>9.495069</td>\n",
       "      <td>Negative</td>\n",
       "      <td>10.3</td>\n",
       "      <td>1:DECEASED</td>\n",
       "      <td>63.048574</td>\n",
       "      <td>3.66</td>\n",
       "      <td>T2b</td>\n",
       "      <td>NaN</td>\n",
       "      <td>NaN</td>\n",
       "      <td>NaN</td>\n",
       "      <td>NaN</td>\n",
       "      <td>T3a</td>\n",
       "      <td>Radical Prostatectomy</td>\n",
       "    </tr>\n",
       "    <tr>\n",
       "      <th>2</th>\n",
       "      <td>PCA0334</td>\n",
       "      <td>31.7</td>\n",
       "      <td>29.635146</td>\n",
       "      <td>0:DiseaseFree</td>\n",
       "      <td>29.635130</td>\n",
       "      <td>Negative</td>\n",
       "      <td>31.7</td>\n",
       "      <td>1:DECEASED</td>\n",
       "      <td>62.232677</td>\n",
       "      <td>4.4</td>\n",
       "      <td>T2b</td>\n",
       "      <td>NaN</td>\n",
       "      <td>NaN</td>\n",
       "      <td>NaN</td>\n",
       "      <td>Adjuvant XRT</td>\n",
       "      <td>T2c</td>\n",
       "      <td>Radical Prostatectomy</td>\n",
       "    </tr>\n",
       "    <tr>\n",
       "      <th>3</th>\n",
       "      <td>PCA0375</td>\n",
       "      <td>12.9</td>\n",
       "      <td>7.983748</td>\n",
       "      <td>0:DiseaseFree</td>\n",
       "      <td>7.983743</td>\n",
       "      <td>Negative</td>\n",
       "      <td>12.9</td>\n",
       "      <td>1:DECEASED</td>\n",
       "      <td>55.218154</td>\n",
       "      <td>2.05</td>\n",
       "      <td>T2a</td>\n",
       "      <td>NaN</td>\n",
       "      <td>NaN</td>\n",
       "      <td>NaN</td>\n",
       "      <td>NaN</td>\n",
       "      <td>pT2b</td>\n",
       "      <td>Radical Prostatectomy</td>\n",
       "    </tr>\n",
       "    <tr>\n",
       "      <th>4</th>\n",
       "      <td>PCA0314</td>\n",
       "      <td>97.2</td>\n",
       "      <td>4.763962</td>\n",
       "      <td>1:Recurred</td>\n",
       "      <td>66.662615</td>\n",
       "      <td>Positive</td>\n",
       "      <td>97.2</td>\n",
       "      <td>1:DECEASED</td>\n",
       "      <td>47.313810</td>\n",
       "      <td>8</td>\n",
       "      <td>T1c</td>\n",
       "      <td>NaN</td>\n",
       "      <td>CLIN_TRIAL</td>\n",
       "      <td>AA,LHRH</td>\n",
       "      <td>NaN</td>\n",
       "      <td>T3b</td>\n",
       "      <td>Radical Prostatectomy</td>\n",
       "    </tr>\n",
       "  </tbody>\n",
       "</table>\n",
       "</div>"
      ],
      "text/plain": [
       "  PATIENT_ID  FOLLOW_UP_TIME_MONTHS  DFS_MONTHS     DFS_STATUS  \\\n",
       "0    PCA0318                  107.2  104.675804  0:DiseaseFree   \n",
       "1    PCA0301                   10.3    9.495074  0:DiseaseFree   \n",
       "2    PCA0334                   31.7   29.635146  0:DiseaseFree   \n",
       "3    PCA0375                   12.9    7.983748  0:DiseaseFree   \n",
       "4    PCA0314                   97.2    4.763962     1:Recurred   \n",
       "\n",
       "   METS_FREE_TIME_MONTHS METASTATIC_DISEASE  OS_MONTHS   OS_STATUS        AGE  \\\n",
       "0             104.675747           Negative      107.2  1:DECEASED  56.691149   \n",
       "1               9.495069           Negative       10.3  1:DECEASED  63.048574   \n",
       "2              29.635130           Negative       31.7  1:DECEASED  62.232677   \n",
       "3               7.983743           Negative       12.9  1:DECEASED  55.218154   \n",
       "4              66.662615           Positive       97.2  1:DECEASED  47.313810   \n",
       "\n",
       "    PSA CLIN_T_STAGE  RADIATION_TREATMENT_NEOADJUVANT ADJUVANT_CHEMO  \\\n",
       "0   4.6          T2a                              NaN            NaN   \n",
       "1  3.66          T2b                              NaN            NaN   \n",
       "2   4.4          T2b                              NaN            NaN   \n",
       "3  2.05          T2a                              NaN            NaN   \n",
       "4     8          T1c                              NaN     CLIN_TRIAL   \n",
       "\n",
       "  ADJUVANT_HORMONE_THERAPY RADIATION_TREATMENT_ADJUVANT PATH_T_STAGE  \\\n",
       "0                      NaN                          NaN         pT2b   \n",
       "1                      NaN                          NaN          T3a   \n",
       "2                      NaN                 Adjuvant XRT          T2c   \n",
       "3                      NaN                          NaN         pT2b   \n",
       "4                  AA,LHRH                          NaN          T3b   \n",
       "\n",
       "                 SURGERY  \n",
       "0  Radical Prostatectomy  \n",
       "1  Radical Prostatectomy  \n",
       "2  Radical Prostatectomy  \n",
       "3  Radical Prostatectomy  \n",
       "4  Radical Prostatectomy  "
      ]
     },
     "execution_count": 37,
     "metadata": {},
     "output_type": "execute_result"
    }
   ],
   "source": [
    "data.head()"
   ]
  },
  {
   "cell_type": "code",
   "execution_count": 62,
   "metadata": {
    "ExecuteTime": {
     "end_time": "2020-06-13T16:15:25.635815Z",
     "start_time": "2020-06-13T16:15:25.445588Z"
    }
   },
   "outputs": [
    {
     "name": "stdout",
     "output_type": "stream",
     "text": [
      "Медианный возраст - 58.2 лет.\n"
     ]
    },
    {
     "data": {
      "image/png": "[encoded data removed]",
      "text/plain": [
       "<Figure size 432x288 with 1 Axes>"
      ]
     },
     "metadata": {},
     "output_type": "display_data"
    }
   ],
   "source": [
    "data['AGE'].plot(kind='hist', bins=15)\n",
    "age_median = np.round(data['AGE'].median(), 1)\n",
    "plt.axvline(age_median, color='r', linestyle='--')\n",
    "print(f\"Медианный возраст - {age_median} лет.\")"
   ]
  },
  {
   "cell_type": "code",
   "execution_count": 63,
   "metadata": {
    "ExecuteTime": {
     "end_time": "2020-06-13T16:15:27.239960Z",
     "start_time": "2020-06-13T16:15:27.056660Z"
    }
   },
   "outputs": [
    {
     "name": "stdout",
     "output_type": "stream",
     "text": [
      "Медианный уровень общей выживаемости - 70.1 месяцев\n"
     ]
    },
    {
     "data": {
      "image/png": "[encoded data removed]",
      "text/plain": [
       "<Figure size 432x288 with 1 Axes>"
      ]
     },
     "metadata": {},
     "output_type": "display_data"
    }
   ],
   "source": [
    "data['OS_MONTHS'].plot(kind='hist', bins=15)\n",
    "mOS = np.round(data['OS_MONTHS'].median(), 1)\n",
    "plt.axvline(mOS, color='r', linestyle='--')\n",
    "print(f\"Медианный уровень общей выживаемости - {mOS} месяцев\")"
   ]
  },
  {
   "cell_type": "markdown",
   "metadata": {},
   "source": [
    "Разделим на группы по стадии заболевания и сравним выживаемость между ними."
   ]
  },
  {
   "cell_type": "code",
   "execution_count": 67,
   "metadata": {
    "ExecuteTime": {
     "end_time": "2020-06-13T16:15:50.296695Z",
     "start_time": "2020-06-13T16:15:50.083229Z"
    }
   },
   "outputs": [
    {
     "data": {
      "text/plain": [
       "<seaborn.axisgrid.FacetGrid at 0x12de407d0>"
      ]
     },
     "execution_count": 67,
     "metadata": {},
     "output_type": "execute_result"
    },
    {
     "data": {
      "image/png": "[encoded data removed]",
      "text/plain": [
       "<Figure size 360x360 with 1 Axes>"
      ]
     },
     "metadata": {},
     "output_type": "display_data"
    }
   ],
   "source": [
    "sns.catplot(x=\"CLIN_T_STAGE\", y=\"OS_MONTHS\", jitter=False,\n",
    "            data=data, order=['T1b', 'T1c', 'T2a', 'T2b',\n",
    "                                'T2c', 'T3', 'T3b'])"
   ]
  },
  {
   "cell_type": "markdown",
   "metadata": {},
   "source": [
    "При визуальном анализе не прослеживается явного уменьшения общей выживаемости с ростом стадии."
   ]
  },
  {
   "cell_type": "markdown",
   "metadata": {
    "ExecuteTime": {
     "end_time": "2020-06-13T15:03:27.327273Z",
     "start_time": "2020-06-13T15:03:27.312679Z"
    }
   },
   "source": [
    "Оценим наличие корреляции между PSA и общей выживаемостью."
   ]
  },
  {
   "cell_type": "code",
   "execution_count": 71,
   "metadata": {
    "ExecuteTime": {
     "end_time": "2020-06-13T16:17:10.729467Z",
     "start_time": "2020-06-13T16:17:10.544197Z"
    },
    "scrolled": false
   },
   "outputs": [
    {
     "name": "stderr",
     "output_type": "stream",
     "text": [
      "'c' argument looks like a single numeric RGB or RGBA sequence, which should be avoided as value-mapping will have precedence in case its length matches with 'x' & 'y'.  Please use a 2-D array with a single row if you really want to specify the same RGB or RGBA value for all points.\n"
     ]
    },
    {
     "name": "stdout",
     "output_type": "stream",
     "text": [
      "Визуально связь не видна, коэффициент коррелляцииПирсона равен 0.109.\n"
     ]
    },
    {
     "data": {
      "image/png": "[encoded data removed]",
      "text/plain": [
       "<Figure size 432x288 with 1 Axes>"
      ]
     },
     "metadata": {},
     "output_type": "display_data"
    }
   ],
   "source": [
    "def convert_to_float(value):\n",
    "    try:\n",
    "        return float(value)\n",
    "    except Exception as ex:\n",
    "        return np.nan\n",
    "\n",
    "\n",
    "data['PSA'] = data['PSA'].apply(convert_to_float)\n",
    "ax2 = data.plot.scatter(y='PSA', x='OS_MONTHS')\n",
    "corr_coef = data[['PSA', 'OS_MONTHS']].corr().values[0][1]\n",
    "print(f\"Визуально связь не видна, коэффициент коррелляции\\\n",
    "Пирсона равен {np.round(corr_coef,3)}.\")"
   ]
  },
  {
   "cell_type": "markdown",
   "metadata": {
    "ExecuteTime": {
     "end_time": "2020-06-13T07:41:32.802004Z",
     "start_time": "2020-06-13T07:41:32.797568Z"
    }
   },
   "source": [
    "# Представление результатов анализа CNA"
   ]
  },
  {
   "cell_type": "code",
   "execution_count": 72,
   "metadata": {
    "ExecuteTime": {
     "end_time": "2020-06-13T16:17:16.218656Z",
     "start_time": "2020-06-13T16:17:16.003746Z"
    }
   },
   "outputs": [],
   "source": [
    "cna_data = pd.read_csv('./prad_mskcc_2014/data_CNA.txt', sep=\"\\t\", header=0)\n",
    "cna_data.set_index('Hugo_Symbol', inplace=True)"
   ]
  },
  {
   "cell_type": "markdown",
   "metadata": {},
   "source": [
    "Оценим гены, наиболее часто оказывающиеся амплифицированныи или делетированными."
   ]
  },
  {
   "cell_type": "code",
   "execution_count": 78,
   "metadata": {
    "ExecuteTime": {
     "end_time": "2020-06-13T16:18:50.344366Z",
     "start_time": "2020-06-13T16:18:47.864993Z"
    }
   },
   "outputs": [],
   "source": [
    "aggregated_analytics = []\n",
    "for i, row in cna_data.iterrows():\n",
    "    amps = [value for value in row if value > 0]\n",
    "    dels = [value for value in row if value < 0]\n",
    "    n_amp = len(amps)\n",
    "    n_del = len(dels)\n",
    "    amp_freq = n_amp / row.shape[0]\n",
    "    del_freq = n_del / row.shape[0]\n",
    "    aggregated_analytics.append({'gene': row.name, 'n_amp': n_amp,\n",
    "                                 'amp_freq': amp_freq,\n",
    "                                'n_del': n_del, 'del_freq': del_freq})\n",
    "\n",
    "aggregated_analytics_df = pd.DataFrame(aggregated_analytics)\n",
    "aggregated_analytics_df.set_index('gene', inplace=True, drop=False)\n",
    "\n",
    "n_genes = cna_data.shape[0]\n",
    "\n",
    "amp_champ = aggregated_analytics_df['n_amp'].idxmax()\n",
    "del_champ = aggregated_analytics_df['n_del'].idxmax()\n",
    "\n",
    "amp_champ_freq = np.round(100*aggregated_analytics_df[aggregated_analytics_df\n",
    "                                                      ['gene'] == amp_champ]\n",
    "                          ['amp_freq'][0], 2)\n",
    "del_champ_freq = np.round(100*aggregated_analytics_df[aggregated_analytics_df\n",
    "                                                      ['gene'] == del_champ]\n",
    "                          ['del_freq'][0], 2)"
   ]
  },
  {
   "cell_type": "code",
   "execution_count": 81,
   "metadata": {
    "ExecuteTime": {
     "end_time": "2020-06-13T16:19:13.155576Z",
     "start_time": "2020-06-13T16:19:13.146361Z"
    }
   },
   "outputs": [
    {
     "name": "stdout",
     "output_type": "stream",
     "text": [
      "В таблице содержатся сведения по 24902 генам\n",
      "Наиболее часто амплифицированный ген в выборке: OR11H1,встречается у 13.46% наблюдений\n",
      "Наиболее часто делетированный ген  в выборке: KBTBD11, встречаетсяу 24.04% наблюдений\n"
     ]
    }
   ],
   "source": [
    "print(f'В таблице содержатся сведения по {n_genes} генам')\n",
    "print(f'Наиболее часто амплифицированный ген в выборке: {amp_champ},\\\n",
    "встречается у {amp_champ_freq}% наблюдений')\n",
    "print(f'Наиболее часто делетированный ген  в выборке: {del_champ}, встречается\\\n",
    "у {del_champ_freq}% наблюдений')"
   ]
  },
  {
   "cell_type": "markdown",
   "metadata": {},
   "source": [
    "Теперь посмотрим на это с позиции отдельных пациентов, посмотрим на тех, у кого случается максимальное количество событий изменения копийности генов."
   ]
  },
  {
   "cell_type": "code",
   "execution_count": 83,
   "metadata": {
    "ExecuteTime": {
     "end_time": "2020-06-13T16:19:29.014247Z",
     "start_time": "2020-06-13T16:19:27.043049Z"
    },
    "scrolled": true
   },
   "outputs": [],
   "source": [
    "patients_data = []\n",
    "for column in cna_data.columns:\n",
    "    col = cna_data[column]\n",
    "    n_cnas = len([value for value in col if value != 0])\n",
    "    col['PATIENT_ID'] = col.name\n",
    "    col['n_cnas'] = n_cnas\n",
    "    patients_data.append(col)\n",
    "\n",
    "patients_df = pd.concat(patients_data, axis=1).T"
   ]
  },
  {
   "cell_type": "code",
   "execution_count": 92,
   "metadata": {
    "ExecuteTime": {
     "end_time": "2020-06-13T16:20:48.188285Z",
     "start_time": "2020-06-13T16:20:48.172056Z"
    },
    "scrolled": true
   },
   "outputs": [
    {
     "data": {
      "text/plain": [
       "PCA0376    10665\n",
       "PCA0300     4644\n",
       "PCA0317     3926\n",
       "PCA0378     3528\n",
       "PCA0370     3426\n",
       "PCA0339     3093\n",
       "PCA0398     3079\n",
       "PCA0336     2784\n",
       "PCA0387     2729\n",
       "PCA0368     2388\n",
       "PCA0350     2366\n",
       "PCA0332     2363\n",
       "PCA0354     2084\n",
       "PCA0404     1615\n",
       "PCA0401     1573\n",
       "PCA0392     1520\n",
       "PCA0384     1514\n",
       "PCA0311     1499\n",
       "PCA0309     1447\n",
       "PCA0338     1435\n",
       "PCA0357     1317\n",
       "PCA0345     1296\n",
       "PCA0324     1266\n",
       "PCA0323     1187\n",
       "PCA0347     1186\n",
       "PCA0402      895\n",
       "PCA0395      877\n",
       "PCA0318      842\n",
       "PCA0307      800\n",
       "PCA0302      685\n",
       "Name: n_cnas, dtype: object"
      ]
     },
     "execution_count": 92,
     "metadata": {},
     "output_type": "execute_result"
    }
   ],
   "source": [
    "patients_df['n_cnas'].sort_values(ascending=False).head(30)"
   ]
  },
  {
   "cell_type": "markdown",
   "metadata": {},
   "source": [
    "Видно, что абсолютным лидером является пациент PCA0376. Посмотрим на его клиническую картину."
   ]
  },
  {
   "cell_type": "code",
   "execution_count": 86,
   "metadata": {
    "ExecuteTime": {
     "end_time": "2020-06-13T16:19:37.015397Z",
     "start_time": "2020-06-13T16:19:36.994202Z"
    }
   },
   "outputs": [
    {
     "data": {
      "text/html": [
       "<div>\n",
       "<style scoped>\n",
       "    .dataframe tbody tr th:only-of-type {\n",
       "        vertical-align: middle;\n",
       "    }\n",
       "\n",
       "    .dataframe tbody tr th {\n",
       "        vertical-align: top;\n",
       "    }\n",
       "\n",
       "    .dataframe thead th {\n",
       "        text-align: right;\n",
       "    }\n",
       "</style>\n",
       "<table border=\"1\" class=\"dataframe\">\n",
       "  <thead>\n",
       "    <tr style=\"text-align: right;\">\n",
       "      <th></th>\n",
       "      <th>PATIENT_ID</th>\n",
       "      <th>FOLLOW_UP_TIME_MONTHS</th>\n",
       "      <th>DFS_MONTHS</th>\n",
       "      <th>DFS_STATUS</th>\n",
       "      <th>METS_FREE_TIME_MONTHS</th>\n",
       "      <th>METASTATIC_DISEASE</th>\n",
       "      <th>OS_MONTHS</th>\n",
       "      <th>OS_STATUS</th>\n",
       "      <th>AGE</th>\n",
       "      <th>PSA</th>\n",
       "      <th>CLIN_T_STAGE</th>\n",
       "      <th>RADIATION_TREATMENT_NEOADJUVANT</th>\n",
       "      <th>ADJUVANT_CHEMO</th>\n",
       "      <th>ADJUVANT_HORMONE_THERAPY</th>\n",
       "      <th>RADIATION_TREATMENT_ADJUVANT</th>\n",
       "      <th>PATH_T_STAGE</th>\n",
       "      <th>SURGERY</th>\n",
       "    </tr>\n",
       "  </thead>\n",
       "  <tbody>\n",
       "    <tr>\n",
       "      <th>75</th>\n",
       "      <td>PCA0376</td>\n",
       "      <td>18.2</td>\n",
       "      <td>12.747712</td>\n",
       "      <td>0:DiseaseFree</td>\n",
       "      <td>12.747706</td>\n",
       "      <td>Negative</td>\n",
       "      <td>18.2</td>\n",
       "      <td>0:LIVING</td>\n",
       "      <td>44.244614</td>\n",
       "      <td>4.68</td>\n",
       "      <td>T1c</td>\n",
       "      <td>NaN</td>\n",
       "      <td>NaN</td>\n",
       "      <td>NaN</td>\n",
       "      <td>NaN</td>\n",
       "      <td>pT2b</td>\n",
       "      <td>Laparoscopic Prostatectomy</td>\n",
       "    </tr>\n",
       "  </tbody>\n",
       "</table>\n",
       "</div>"
      ],
      "text/plain": [
       "   PATIENT_ID  FOLLOW_UP_TIME_MONTHS  DFS_MONTHS     DFS_STATUS  \\\n",
       "75    PCA0376                   18.2   12.747712  0:DiseaseFree   \n",
       "\n",
       "    METS_FREE_TIME_MONTHS METASTATIC_DISEASE  OS_MONTHS OS_STATUS        AGE  \\\n",
       "75              12.747706           Negative       18.2  0:LIVING  44.244614   \n",
       "\n",
       "     PSA CLIN_T_STAGE  RADIATION_TREATMENT_NEOADJUVANT ADJUVANT_CHEMO  \\\n",
       "75  4.68          T1c                              NaN            NaN   \n",
       "\n",
       "   ADJUVANT_HORMONE_THERAPY RADIATION_TREATMENT_ADJUVANT PATH_T_STAGE  \\\n",
       "75                      NaN                          NaN         pT2b   \n",
       "\n",
       "                       SURGERY  \n",
       "75  Laparoscopic Prostatectomy  "
      ]
     },
     "execution_count": 86,
     "metadata": {},
     "output_type": "execute_result"
    }
   ],
   "source": [
    "data[data['PATIENT_ID'] == 'PCA0376']"
   ]
  },
  {
   "cell_type": "markdown",
   "metadata": {
    "ExecuteTime": {
     "end_time": "2020-06-13T15:23:36.647560Z",
     "start_time": "2020-06-13T15:23:36.640437Z"
    }
   },
   "source": [
    "Интересно, что это случай неметастатического рака предстательной железы, относительно ранней стадии - pT2b, получивший хирургическое лечение и находящийся на момент отсечки в ремиссии."
   ]
  },
  {
   "cell_type": "markdown",
   "metadata": {
    "ExecuteTime": {
     "end_time": "2020-06-13T15:24:17.027525Z",
     "start_time": "2020-06-13T15:24:17.021163Z"
    }
   },
   "source": [
    "Попробуем оценить коррелляцию между общей выживаемостью и числом перестроек."
   ]
  },
  {
   "cell_type": "code",
   "execution_count": 89,
   "metadata": {
    "ExecuteTime": {
     "end_time": "2020-06-13T16:19:54.151950Z",
     "start_time": "2020-06-13T16:19:54.057222Z"
    }
   },
   "outputs": [],
   "source": [
    "data2 = data.merge(patients_df, left_on='PATIENT_ID', right_on='PATIENT_ID',\n",
    "                   how='left')"
   ]
  },
  {
   "cell_type": "code",
   "execution_count": 90,
   "metadata": {
    "ExecuteTime": {
     "end_time": "2020-06-13T16:19:55.825851Z",
     "start_time": "2020-06-13T16:19:55.744090Z"
    }
   },
   "outputs": [],
   "source": [
    "data2['n_cnas'] = data2['n_cnas'].astype(float)"
   ]
  },
  {
   "cell_type": "code",
   "execution_count": 94,
   "metadata": {
    "ExecuteTime": {
     "end_time": "2020-06-13T16:21:04.529139Z",
     "start_time": "2020-06-13T16:21:04.516226Z"
    }
   },
   "outputs": [
    {
     "name": "stdout",
     "output_type": "stream",
     "text": [
      "Визуально связь не видна, коэффициент коррелляции Пирсона равен-0.1. Наблюдается очень слабая отрицательная корреляция.\n"
     ]
    }
   ],
   "source": [
    "ax2 = data2.plot.scatter(y='n_cnas', x='OS_MONTHS')\n",
    "corr_coef = data2['n_cnas'].corr(data2['OS_MONTHS'])\n",
    "print(f\"Визуально связь не видна, коэффициент коррелляции Пирсона равен\\\n",
    "{np.round(corr_coef,3)}. Наблюдается очень слабая отрицательная корреляция.\")"
   ]
  }
 ],
 "metadata": {
  "kernelspec": {
   "display_name": "Python 3",
   "language": "python",
   "name": "python3"
  },
  "language_info": {
   "codemirror_mode": {
    "name": "ipython",
    "version": 3
   },
   "file_extension": ".py",
   "mimetype": "text/x-python",
   "name": "python",
   "nbconvert_exporter": "python",
   "pygments_lexer": "ipython3",
   "version": "3.7.7"
  },
  "toc": {
   "base_numbering": 1,
   "nav_menu": {},
   "number_sections": true,
   "sideBar": true,
   "skip_h1_title": false,
   "title_cell": "Table of Contents",
   "title_sidebar": "Contents",
   "toc_cell": false,
   "toc_position": {},
   "toc_section_display": true,
   "toc_window_display": false
  }
 },
 "nbformat": 4,
 "nbformat_minor": 4
}
